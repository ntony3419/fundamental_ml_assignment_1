{
 "cells": [
  {
   "cell_type": "markdown",
   "metadata": {},
   "source": [
    "# algorithm to predict diabete using data from kaggle"
   ]
  },
  {
   "cell_type": "code",
   "execution_count": null,
   "metadata": {},
   "outputs": [],
   "source": [
    "#load feature and labels\n",
    "data = []\n",
    "labels=[]\n",
    "# load data of diabetes.txt\n",
    "with open(\"diabetes.txt\", 'r') as file:\n",
    "    #go over each line and extract label and features\n",
    "    for line in file:\n",
    "        line_split = line.strip().split() # remove empty space start and end of line then split\n",
    "        label = int(line_split[0])\n",
    "        features = [0]*8# list of feature with 8 element\n",
    "        # go over remaining data of this line to extract the index and value\n",
    "        for part in line_split[1:]:\n",
    "            index,value = part.split(\":\") # each set split at : for index and value\n",
    "            # assign feature to index\n",
    "            features[int(index)-1]= float(value) \n",
    "        data.append(features)\n",
    "        # add label\n",
    "        if lable == 1 :\n",
    "            labels.append(1)\n",
    "        else: labels.append(0)\n"
   ]
  }
 ],
 "metadata": {
  "language_info": {
   "name": "python"
  }
 },
 "nbformat": 4,
 "nbformat_minor": 2
}

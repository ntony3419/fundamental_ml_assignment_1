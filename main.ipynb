{
 "cells": [
  {
   "cell_type": "markdown",
   "metadata": {},
   "source": [
    "# algorithm to predict diabete using data from kaggle"
   ]
  },
  {
   "cell_type": "code",
   "execution_count": 1,
   "metadata": {},
   "outputs": [],
   "source": [
    "#load feature and labels\n",
    "data = []\n",
    "labels=[]\n",
    "# load data of diabetes.txt\n",
    "with open(\"diabetes.txt\", 'r') as file:\n",
    "    #go over each line and extract label and features\n",
    "    for line in file:\n",
    "        line_split = line.strip().split() # remove empty space start and end of line then split\n",
    "        label = int(line_split[0])\n",
    "        features = [0]*8# list of feature with 8 element\n",
    "        # go over remaining data of this line to extract the index and value\n",
    "        for part in line_split[1:]:\n",
    "            index,value = part.split(\":\") # each set split at : for index and value\n",
    "            # assign feature to index\n",
    "            features[int(index)-1]= float(value) \n",
    "        data.append(features)\n",
    "        # add label by converting +1 and -1 string into binary 1, 0\n",
    "        if label == 1 :\n",
    "            labels.append(1)\n",
    "        else: \n",
    "            labels.append(0)\n"
   ]
  },
  {
   "cell_type": "code",
   "execution_count": 8,
   "metadata": {},
   "outputs": [],
   "source": [
    "# Parse data set and label set into x array and yarray \n",
    "import numpy as np\n",
    "\n",
    "X = np.array(data)\n",
    "y= np.array(labels)\n",
    "\n"
   ]
  },
  {
   "cell_type": "code",
   "execution_count": 9,
   "metadata": {},
   "outputs": [],
   "source": [
    "# create train set and test set from the data\n",
    "from sklearn.model_selection import train_test_split\n",
    "X_train,X_test,y_train,y_test = train_test_split(X,y, test_size=0.3, random_state=42)"
   ]
  }
 ],
 "metadata": {
  "kernelspec": {
   "display_name": "env",
   "language": "python",
   "name": "python3"
  },
  "language_info": {
   "codemirror_mode": {
    "name": "ipython",
    "version": 3
   },
   "file_extension": ".py",
   "mimetype": "text/x-python",
   "name": "python",
   "nbconvert_exporter": "python",
   "pygments_lexer": "ipython3",
   "version": "3.12.3"
  }
 },
 "nbformat": 4,
 "nbformat_minor": 2
}
